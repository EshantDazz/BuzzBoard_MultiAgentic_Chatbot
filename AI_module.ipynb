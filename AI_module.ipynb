{
 "cells": [
  {
   "cell_type": "code",
   "execution_count": null,
   "metadata": {},
   "outputs": [],
   "source": []
  },
  {
   "cell_type": "code",
   "execution_count": 1,
   "metadata": {},
   "outputs": [],
   "source": [
    "query1=\"Analyze the online presence of Insight Marketing Design and identify areas for improvement.\"\n",
    "query2=\"sdjkfbksdbfkjbjk\"\n",
    "query3=\"Find businesses in the Computer Contractors category with low local presence but high google ads spend.\"\n",
    "query4=\"What are the strengths and weaknesses of TagLine Media Group?\"\n",
    "query5=\"Draft a personalized email for a TagLine Media Group business and prose my product based on their needs\""
   ]
  },
  {
   "cell_type": "markdown",
   "metadata": {},
   "source": [
    "## **Initialise the LLM**"
   ]
  },
  {
   "cell_type": "code",
   "execution_count": 2,
   "metadata": {},
   "outputs": [
    {
     "data": {
      "text/plain": [
       "True"
      ]
     },
     "execution_count": 2,
     "metadata": {},
     "output_type": "execute_result"
    }
   ],
   "source": [
    "from langchain_anthropic import ChatAnthropic\n",
    "from langchain_groq import ChatGroq\n",
    "from dotenv import load_dotenv\n",
    "import os\n",
    "load_dotenv()"
   ]
  },
  {
   "cell_type": "code",
   "execution_count": null,
   "metadata": {},
   "outputs": [],
   "source": []
  },
  {
   "cell_type": "code",
   "execution_count": 3,
   "metadata": {},
   "outputs": [],
   "source": [
    "llm_claud=ChatAnthropic(model='claude-3-5-sonnet-20241022',temperature=0,max_retries=2)\n",
    "llm_claud_basic=ChatAnthropic(model='claude-3-5-haiku-20241022',temperature=0,max_retries=2)\n",
    "llm_llama=ChatGroq(model=\"llama-3.3-70b-versatile\",temperature=0,max_retries=3)"
   ]
  },
  {
   "cell_type": "code",
   "execution_count": null,
   "metadata": {},
   "outputs": [],
   "source": []
  },
  {
   "cell_type": "markdown",
   "metadata": {},
   "source": [
    "## **Agent Allocator will look at the query and will decide how to further process it**"
   ]
  },
  {
   "cell_type": "code",
   "execution_count": 4,
   "metadata": {},
   "outputs": [],
   "source": [
    "## Import the prompt and pydantic class to connect the llm\n",
    "\n",
    "from core.prompts.task_allocator import task_allocator_prompt\n",
    "from core.pydantic_structured_response_classes.task_allocator_pd import TaskAllocationResponse"
   ]
  },
  {
   "cell_type": "code",
   "execution_count": 5,
   "metadata": {},
   "outputs": [],
   "source": [
    "llm_task_allocation=llm_claud.with_structured_output(TaskAllocationResponse)\n",
    "task_allocation_chain=task_allocator_prompt | llm_task_allocation"
   ]
  },
  {
   "cell_type": "code",
   "execution_count": 6,
   "metadata": {},
   "outputs": [],
   "source": [
    "chat_history=[]\n",
    "agent_selected=(task_allocation_chain.invoke({\"query\":query5,\"chat_history\":chat_history})).score"
   ]
  },
  {
   "cell_type": "code",
   "execution_count": 7,
   "metadata": {},
   "outputs": [
    {
     "data": {
      "text/plain": [
       "3"
      ]
     },
     "execution_count": 7,
     "metadata": {},
     "output_type": "execute_result"
    }
   ],
   "source": [
    "agent_selected"
   ]
  },
  {
   "cell_type": "markdown",
   "metadata": {},
   "source": [
    "## **If Agent 1 is slected**"
   ]
  },
  {
   "cell_type": "code",
   "execution_count": 8,
   "metadata": {},
   "outputs": [],
   "source": [
    "from core.tools.agent_tools import get_huge_corpus_for_all_companies,get_specific_company_details,calculator\n",
    "from core.prompts.agent1 import agent1_prompt,reframe_agent1_response\n",
    "from langchain_core.output_parsers import StrOutputParser\n",
    "from langchain_core.messages import HumanMessage, SystemMessage,AIMessage"
   ]
  },
  {
   "cell_type": "code",
   "execution_count": null,
   "metadata": {},
   "outputs": [],
   "source": []
  },
  {
   "cell_type": "code",
   "execution_count": 9,
   "metadata": {},
   "outputs": [],
   "source": [
    "tools=[get_huge_corpus_for_all_companies,get_specific_company_details,calculator]\n",
    "llm_tools_agent_1=llm_claud.bind_tools(tools)\n",
    "agent1_chain=agent1_prompt|llm_tools_agent_1"
   ]
  },
  {
   "cell_type": "code",
   "execution_count": 10,
   "metadata": {},
   "outputs": [],
   "source": [
    "answer=agent1_chain.invoke({'query':query3,'chat_history':[]})\n",
    "\n",
    "    "
   ]
  },
  {
   "cell_type": "code",
   "execution_count": 11,
   "metadata": {},
   "outputs": [],
   "source": [
    "if answer.tool_calls:\n",
    "    messages=[HumanMessage(query3)]\n",
    "    messages.append(answer)\n",
    "    for tool_call in answer.tool_calls:\n",
    "\n",
    "        selected_tool = {\"get_huge_corpus_for_all_companies\": get_huge_corpus_for_all_companies,\"get_specific_company_details\":get_specific_company_details,\"calculator\":calculator}[tool_call[\"name\"].lower()]\n",
    "\n",
    "        tool_msg = selected_tool.invoke(tool_call)\n",
    "\n",
    "        messages.append(tool_msg)\n"
   ]
  },
  {
   "cell_type": "code",
   "execution_count": 12,
   "metadata": {},
   "outputs": [],
   "source": [
    "response=llm_tools_agent_1.invoke(messages).content"
   ]
  },
  {
   "cell_type": "code",
   "execution_count": 13,
   "metadata": {},
   "outputs": [
    {
     "name": "stdout",
     "output_type": "stream",
     "text": [
      "Based on the data, I'll analyze businesses in the Computer Contractors category to identify those with low local presence but high Google Ads spend. Here are the key findings:\n",
      "\n",
      "1. Zrix Inc:\n",
      "- Low local presence indicators:\n",
      "  * No Google Places reviews\n",
      "  * Not listed on multiple local directories\n",
      "  * No local presence on Nextdoor\n",
      "  * Limited local business citations\n",
      "- High Google Ads activity:\n",
      "  * Currently running Google Ads campaigns\n",
      "  * Significant monthly technology spend\n",
      "  * Display advertising presence\n",
      "\n",
      "2. Urolime Technologies:\n",
      "- Low local presence indicators:\n",
      "  * No Google Places reviews\n",
      "  * Limited local directory presence\n",
      "  * No Yelp presence\n",
      "  * Minimal local business citations\n",
      "- High Google Ads activity:\n",
      "  * Active Google Ads campaigns\n",
      "  * Monthly technology spend focused on digital\n",
      "  * Strong digital marketing focus\n",
      "\n",
      "3. Jackrabbit:\n",
      "- Mixed local presence but relatively lower than competitors:\n",
      "  * Limited local directory presence\n",
      "  * Minimal local citations\n",
      "  * Lower local engagement metrics\n",
      "- High Google Ads investment:\n",
      "  * Active Google Ads campaigns\n",
      "  * Significant digital marketing budget\n",
      "  * Focus on online customer acquisition\n",
      "\n",
      "Key Opportunity Indicators:\n",
      "1. These businesses are investing heavily in paid digital advertising while having limited local market presence\n",
      "2. They show a pattern of prioritizing online customer acquisition over local community engagement\n",
      "3. Their technology spend suggests resources available for marketing, but local presence remains underdeveloped\n",
      "\n",
      "This analysis reveals potential market opportunities for:\n",
      "- Local market penetration strategies\n",
      "- Community engagement initiatives\n",
      "- Balanced online-offline presence development\n",
      "- Local SEO optimization\n",
      "- Local business networking and partnerships\n",
      "\n",
      "These businesses appear to be focusing their resources on digital advertising while potentially underserving local market opportunities, suggesting room for strategic pivots or competitive advantages in local market development.\n"
     ]
    }
   ],
   "source": [
    "print(response)"
   ]
  },
  {
   "cell_type": "code",
   "execution_count": 14,
   "metadata": {},
   "outputs": [
    {
     "data": {
      "text/plain": [
       "'Computer Contractors with Low Local Presence & High Google Ads Spend:\\n\\n1. Zrix Inc\\n   - Local Presence Metrics:\\n     • Zero Google Places reviews\\n     • Missing from local directories\\n     • No local business citations\\n   - Google Ads Activity:\\n     • Active advertising campaigns\\n     • High monthly ad spend\\n\\n2. Urolime Technologies\\n   - Local Presence Metrics:\\n     • No Google Places reviews\\n     • Minimal local directory listings\\n     • Absent from Yelp\\n   - Google Ads Activity:\\n     • Running active campaigns\\n     • Substantial digital marketing spend\\n\\n3. Jackrabbit\\n   - Local Presence Metrics:\\n     • Limited directory presence\\n     • Minimal local citations\\n   - Google Ads Activity:\\n     • Active advertising campaigns\\n     • High digital marketing budget\\n\\nCommon Pattern:\\n• All three businesses show significant investment in Google Ads\\n• Consistently low engagement in local business ecosystems\\n• Clear preference for digital customer acquisition over local presence building'"
      ]
     },
     "execution_count": 14,
     "metadata": {},
     "output_type": "execute_result"
    }
   ],
   "source": [
    "reframe_chain=reframe_agent1_response | llm_claud | StrOutputParser()\n",
    "final_response=reframe_chain.invoke({'query':query3,'response':response})\n",
    "final_response"
   ]
  },
  {
   "cell_type": "code",
   "execution_count": 15,
   "metadata": {},
   "outputs": [
    {
     "name": "stdout",
     "output_type": "stream",
     "text": [
      "Computer Contractors with Low Local Presence & High Google Ads Spend:\n",
      "\n",
      "1. Zrix Inc\n",
      "   - Local Presence Metrics:\n",
      "     • Zero Google Places reviews\n",
      "     • Missing from local directories\n",
      "     • No local business citations\n",
      "   - Google Ads Activity:\n",
      "     • Active advertising campaigns\n",
      "     • High monthly ad spend\n",
      "\n",
      "2. Urolime Technologies\n",
      "   - Local Presence Metrics:\n",
      "     • No Google Places reviews\n",
      "     • Minimal local directory listings\n",
      "     • Absent from Yelp\n",
      "   - Google Ads Activity:\n",
      "     • Running active campaigns\n",
      "     • Substantial digital marketing spend\n",
      "\n",
      "3. Jackrabbit\n",
      "   - Local Presence Metrics:\n",
      "     • Limited directory presence\n",
      "     • Minimal local citations\n",
      "   - Google Ads Activity:\n",
      "     • Active advertising campaigns\n",
      "     • High digital marketing budget\n",
      "\n",
      "Common Pattern:\n",
      "• All three businesses show significant investment in Google Ads\n",
      "• Consistently low engagement in local business ecosystems\n",
      "• Clear preference for digital customer acquisition over local presence building\n"
     ]
    }
   ],
   "source": [
    "print(final_response)"
   ]
  },
  {
   "cell_type": "code",
   "execution_count": null,
   "metadata": {},
   "outputs": [],
   "source": []
  },
  {
   "cell_type": "markdown",
   "metadata": {},
   "source": [
    "## **If Agent2 is selected**"
   ]
  },
  {
   "cell_type": "code",
   "execution_count": 16,
   "metadata": {},
   "outputs": [
    {
     "data": {
      "text/plain": [
       "'What are the strengths and weaknesses of TagLine Media Group?'"
      ]
     },
     "execution_count": 16,
     "metadata": {},
     "output_type": "execute_result"
    }
   ],
   "source": [
    "query4"
   ]
  },
  {
   "cell_type": "code",
   "execution_count": 17,
   "metadata": {},
   "outputs": [],
   "source": [
    "from core.tools.agent_tools import get_specific_company_details,calculator\n",
    "from core.prompts.agent2 import agent2_prompt,reframe_agent2_response\n",
    "from langchain_core.output_parsers import StrOutputParser\n",
    "from langchain_core.messages import HumanMessage, SystemMessage,AIMessage"
   ]
  },
  {
   "cell_type": "code",
   "execution_count": 18,
   "metadata": {},
   "outputs": [],
   "source": [
    "tools=[get_specific_company_details,calculator]\n",
    "llm_tools_agent_2=llm_claud.bind_tools(tools)\n",
    "agent2_chain=agent1_prompt|llm_tools_agent_2"
   ]
  },
  {
   "cell_type": "code",
   "execution_count": 19,
   "metadata": {},
   "outputs": [],
   "source": [
    "answer=agent2_chain.invoke({'query':query4,'chat_history':[]})"
   ]
  },
  {
   "cell_type": "code",
   "execution_count": 20,
   "metadata": {},
   "outputs": [],
   "source": [
    "if answer.tool_calls:\n",
    "    messages=[HumanMessage(query4)]\n",
    "    messages.append(answer)\n",
    "    for tool_call in answer.tool_calls:\n",
    "\n",
    "        selected_tool = {\"get_specific_company_details\":get_specific_company_details,\"calculator\":calculator}[tool_call[\"name\"].lower()]\n",
    "\n",
    "        tool_msg = selected_tool.invoke(tool_call)\n",
    "\n",
    "        messages.append(tool_msg)"
   ]
  },
  {
   "cell_type": "code",
   "execution_count": 21,
   "metadata": {},
   "outputs": [
    {
     "data": {
      "text/plain": [
       "[HumanMessage(content='What are the strengths and weaknesses of TagLine Media Group?', additional_kwargs={}, response_metadata={}),\n",
       " AIMessage(content=[{'text': \"I'll help you analyze the strengths and weaknesses of TagLine Media Group by retrieving their specific company details and analyzing the data.\", 'type': 'text'}, {'id': 'toolu_016uPa3ecT7RowkHC7ZbxKPm', 'input': {'company_name': 'TagLine Media Group'}, 'name': 'get_specific_company_details', 'type': 'tool_use'}], additional_kwargs={}, response_metadata={'id': 'msg_01Y7gotEJ8sJaAbXsaP4k9zp', 'model': 'claude-3-5-sonnet-20241022', 'stop_reason': 'tool_use', 'stop_sequence': None, 'usage': {'cache_creation_input_tokens': 0, 'cache_read_input_tokens': 0, 'input_tokens': 1194, 'output_tokens': 91}}, id='run-42a5619c-c320-45b8-9e40-bfcca8f994c6-0', tool_calls=[{'name': 'get_specific_company_details', 'args': {'company_name': 'TagLine Media Group'}, 'id': 'toolu_016uPa3ecT7RowkHC7ZbxKPm', 'type': 'tool_call'}], usage_metadata={'input_tokens': 1194, 'output_tokens': 91, 'total_tokens': 1285, 'input_token_details': {'cache_read': 0, 'cache_creation': 0}}),\n",
       " ToolMessage(content='{\"BUSINESS INFO\": {\"Business Name\": \"TagLine Media Group\", \"Website Formatted\": \"http://taglinegroup.com/\", \"Website\": \"http://taglinegroup.com/\", \"Phone\": \"5202078910\", \"Default Email\": \"mc@taglinegroup.com\", \"Email List\": [\"mc@taglinegroup.com\"], \"street_address\": \"1655 N Swan Rd,\", \"city\": \"Tucson\", \"zip\": \"85712\", \"state\": \"AZ\", \"country\": \"United States\", \"Headquarters\": \"No\", \"BuzzScore\": 74}, \"CATEGORY\": {\"primarry_category_name\": \"Advertising\", \"secondary_category_name\": \"Advertising Agencies\"}, \"FIRMOGRAPHICS\": {\"locations_count\": 1, \"annual_revenue\": \"$1M - $ 2.5M\", \"monthly_technology_spend\": \"700\", \"revenue_seasonality\": \"Fall, Winter\", \"remote_only_business\": \"No\"}, \"E-Commerce\": {\"reviews\": \"Yes\", \"featured_products\": \"No\", \"promotions\": \"No\", \"coupons\": \"No\", \"wish_list\": \"No\", \"order_tracking\": \"No\", \"get_a_quote\": \"No\", \"scheduler\": \"Yes\", \"mortgage_calculator\": \"No\", \"finance\": \"No\", \"inventory_search_form\": \"No\", \"estimates_page\": \"No\", \"menu\": \"Yes\", \"facebook_shop_presence\": \"No\", \"amazon_page_presence\": \"No\", \"monthly_technology_spend_tb\": \"$0K - $1K\", \"reservation_and_booking\": \"No\", \"online_ordering\": \"No\", \"buying_page\": \"No\", \"selling_page\": \"No\", \"rentals_page\": \"No\"}, \"Multi-Screen Compatibility\": {\"Mobile-Friendly\": \"Yes\", \"Responsive Design\": \"Yes\", \"Page Speed Score (Mobile)\": 56}, \"Advertising\": {\"Google Ads\": \"Yes\", \"Display Ads\": \"No\", \"Facebook Ads\": \"No\", \"Yelp Ads\": \"No\", \"Instagram Ads\": \"2\"}, \"Social Media Presence\": {\"facebook_business_page- presence\": \"Yes\", \"facebook_business_page- fb_followers\": \"2,400\", \"facebook_business_page- page_url\": \"https://facebook.com/pg/43972430865\", \"twitter_business_profile- presence\": \"Yes\", \"twitter_business_profile- twitter_followers\": \"0\", \"twitter_business_profile- tweet_count\": \"0\", \"twitter_business_profile- page_url\": \"https://twitter.com/TaglineMediaAZ\", \"youtube_business_channel- presence\": \"Yes\", \"youtube_business_channel- yt_videos_counts\": \"117\", \"youtube_business_channel- yt_subscribers_counts\": \"70\", \"youtube_business_channel- yt_views_counts\": \"218.6K\", \"youtube_business_channel- page_url\": \"https://www.youtube.com/@TaglineMedia\", \"linkedin_company_profile- presence\": \"Yes\", \"linkedin_company_profile- page_url\": \"https://www.linkedin.com/company/tagline-media\", \"pinterest- presence\": \"Yes\", \"pinterest- pinterest_followers\": \"No\", \"pinterest- pinterest_following\": \"No\", \"pinterest- pinterest_pins\": \"No\", \"pinterest- pinterest_boards\": \"No\", \"pinterest- page_url\": \"https://www.pinterest.com/foreignerds\", \"instagram- presence\": \"Yes\", \"instagram- insta_posts\": \"145\", \"instagram- insta_followers\": \"41\", \"instagram- insta_following\": \"29\", \"instagram- page_url\": \"https://www.instagram.com/taglinemediaaz\", \"fb_fans- Facebook Likes\": \"2,379\", \"fbcheckins- Facebook Check ins\": \"64\", \"tweet_friends_count- Twitter Following\": \"9\", \"tweet_likes- Twitter Likes\": \"Yes\", \"tweet_description- Twitter Description\": \"No\", \"pinterest_profile_image_url- Pinterest Profile Image (Link)\": \"No\", \"pinterest_domain_verified- Pinterest Domain Verified\": \"No\", \"pinterest_is_verified_merchant- Pinterest Verified Merchant\": \"No\"}, \"Local Business Presence\": {\"google_places-Listed\": \"Yes\", \"google_places-Claimed\": \"Yes\", \"google_places-NAP\": \"No\", \"google_places-local_directory_googleplaces_reviews\": \"21\", \"google_places-local_directory_googleplaces_ratings\": \"5\", \"yelp-Listed\": \"Yes\", \"yelp-Claimed\": \"Yes\", \"yelp-NAP\": \"Yes\", \"yelp-local_directory_yelp_reviews\": \"No\", \"yelp-local_directory_yelp_ratings\": \"No\", \"yellow_pages-Listed\": \"Yes\", \"yellow_pages-Claimed\": \"Yes\", \"yellow_pages-NAP\": \"Yes\", \"nokia_places-Listed\": \"Yes\", \"nokia_places-Claimed\": \"No\", \"nokia_places-NAP\": \"No\", \"nextdoor-Listed\": \"Yes\", \"nextdoor-Claimed\": \"Yes\", \"nextdoor-NAP\": \"Yes\", \"nextdoor-businesss_name\": \"TagLine Media Group\", \"nextdoor-neighborhood_favorite\": \"No\", \"google_places_claimed-Claimed\": \"Yes\", \"yelp_claimed-Claimed\": \"Yes\", \"yellow_pages_climed-Claimed\": \"Yes\", \"nokia_places_climed-Claimed\": \"No\"}, \"Marketplace\": {\"Thumbtack\": \"No\", \"Uber Eats\": \"No\", \"OpenTable\": \"No\", \"iOS App\": \"No\", \"Android App\": \"No\"}, \"Content Analysis\": {\"Local Phone Number\": \"No\", \"Address on Homepage\": \"No\", \"Map & Directions\": \"No\", \"Contact Us\": \"No\", \"Privacy Policy\": \"No\", \"About Page\": \"No\", \"Services Page\": \"No\", \"Newsletter\": \"No\"}, \"Infrastructure Robustness\": {\"PageSpeed Score (Desktop)\": \"76\", \"Caching Enabled\": 2, \"Image Size Optimization\": \"No\", \"Text Compression\": \"No\", \"Server Response Time\": \"0.023 s\", \"No Page Redirects\": \"Yes\", \"Prioritize Visible Content\": 2, \"Wordpress\": \"Yes\", \"Google Analytics\": \"Yes\", \"SSL\": \"Yes\"}, \"Google Reviews\": {\"Negative\": \"No\", \"Neutral\": \"No\", \"Positive\": \"100%\"}, \"HR & Organization\": {\"Employee Count\": \"1 - 10\", \"Employee Reviews\": \"No\", \"Employee Ratings\": \"No\", \"Open Positions\": \"No\"}, \"SEO Analysis\": {\"Domain Redirection\": \"Yes\", \"Robots.txt\": \"Yes\", \"Sitemap.xml\": \"Yes\", \"Title Tag Compliance\": \"Yes\", \"Location In Title\": \"Yes\", \"Unique Title\": \"No\", \"Meta Description Compliance\": \"Yes\", \"Headings Included\": \"Yes\", \"Image Alt Text\": \"No\", \"Frames Excluded\": \"No\", \"Flash Excluded\": \"Yes\", \"Backlinks\": \"Yes\", \"Domain Authority\": \"No\", \"Domain Age\": \"16 Y\", \"Rich Snippets\": \"No\", \"SEF URL\": \"Yes\", \"Sitemap.html\": \"No\", \"Trust Flow Score\": \"11\"}}', name='get_specific_company_details', tool_call_id='toolu_016uPa3ecT7RowkHC7ZbxKPm')]"
      ]
     },
     "execution_count": 21,
     "metadata": {},
     "output_type": "execute_result"
    }
   ],
   "source": [
    "messages"
   ]
  },
  {
   "cell_type": "code",
   "execution_count": null,
   "metadata": {},
   "outputs": [],
   "source": []
  },
  {
   "cell_type": "code",
   "execution_count": 22,
   "metadata": {},
   "outputs": [],
   "source": [
    "response=llm_tools_agent_2.invoke(messages).content"
   ]
  },
  {
   "cell_type": "code",
   "execution_count": 23,
   "metadata": {},
   "outputs": [
    {
     "name": "stdout",
     "output_type": "stream",
     "text": [
      "Based on the data, here are the key strengths and weaknesses of TagLine Media Group:\n",
      "\n",
      "Strengths:\n",
      "1. Strong Digital Infrastructure:\n",
      "- High desktop PageSpeed score (76)\n",
      "- Mobile-friendly with responsive design\n",
      "- SSL-secured website\n",
      "- Well-implemented basic SEO elements (robots.txt, sitemap.xml, title tags)\n",
      "\n",
      "2. Excellent Customer Satisfaction:\n",
      "- 100% positive Google Reviews\n",
      "- 5-star rating on Google Places (21 reviews)\n",
      "\n",
      "3. Established Social Media Presence:\n",
      "- Strong Facebook following (2,400 followers)\n",
      "- Active YouTube channel with significant viewership (218.6K views, 117 videos)\n",
      "- Presence across multiple platforms (Facebook, Twitter, YouTube, LinkedIn, Pinterest, Instagram)\n",
      "\n",
      "4. Business Legitimacy:\n",
      "- Well-established business (16-year domain age)\n",
      "- Claimed business listings on major platforms (Google Places, Yelp, Yellow Pages)\n",
      "- Active advertising presence (Google Ads)\n",
      "\n",
      "5. Professional Services:\n",
      "- Specialized in advertising and advertising agency services\n",
      "- Stable revenue seasonality (Fall, Winter)\n",
      "- Established revenue range ($1M - $2.5M annually)\n",
      "\n",
      "Weaknesses:\n",
      "1. Content and User Experience:\n",
      "- Missing important website elements (Privacy Policy, About Page, Services Page)\n",
      "- No address or local phone number on homepage\n",
      "- No map & directions feature\n",
      "- Limited contact information accessibility\n",
      "\n",
      "2. Technical Performance:\n",
      "- Moderate mobile page speed score (56)\n",
      "- Lack of image size optimization\n",
      "- No text compression\n",
      "- Missing image alt text for SEO\n",
      "\n",
      "3. Social Media Engagement Inconsistencies:\n",
      "- Limited Twitter engagement (0 followers, 0 tweets)\n",
      "- Low Instagram following (41 followers)\n",
      "- Inactive Pinterest profile\n",
      "\n",
      "4. Business Scale:\n",
      "- Small team size (1-10 employees)\n",
      "- Single location operation\n",
      "- Relatively modest monthly technology spend ($700)\n",
      "\n",
      "5. E-commerce and Digital Features:\n",
      "- Limited online functionality (no featured products, promotions, or coupons)\n",
      "- No mobile apps\n",
      "- No online ordering or quote system\n",
      "- Limited digital marketplace presence\n",
      "\n",
      "6. Marketing Infrastructure:\n",
      "- No newsletter system for customer engagement\n",
      "- Limited display advertising presence\n",
      "- No Facebook or Yelp advertising\n",
      "- No rich snippets implementation\n",
      "\n",
      "The company appears to be a small but established advertising agency with strong customer satisfaction and basic digital presence, but has room for improvement in terms of digital features, content marketing, and technical optimization of their online presence.\n"
     ]
    }
   ],
   "source": [
    "print(response)"
   ]
  },
  {
   "cell_type": "code",
   "execution_count": 24,
   "metadata": {},
   "outputs": [
    {
     "data": {
      "text/plain": [
       "'Strengths of TagLine Media Group:\\n\\n1. Digital Infrastructure\\n- Strong desktop performance (PageSpeed: 76)\\n- Mobile-responsive design\\n- Secure SSL implementation\\n- Proper basic SEO structure\\n\\n2. Customer Reputation\\n- Perfect 5-star Google rating (21 reviews)\\n- 100% positive customer feedback\\n\\n3. Social Media Presence\\n- Substantial Facebook community (2,400 followers)\\n- Successful YouTube channel (218.6K views, 117 videos)\\n- Multi-platform presence\\n\\n4. Business Credibility\\n- 16 years of domain presence\\n- Verified business listings\\n- Active Google Ads campaigns\\n\\n5. Core Business\\n- Specialized advertising services\\n- Consistent revenue seasonality\\n- Stable annual revenue ($1M - $2.5M)\\n\\nWeaknesses:\\n\\n1. Website Deficiencies\\n- Missing core pages (Privacy, About, Services)\\n- Limited contact information\\n- No location/navigation features\\n\\n2. Technical Issues\\n- Subpar mobile speed (Score: 56)\\n- Poor image optimization\\n- Missing SEO elements\\n\\n3. Social Media Gaps\\n- Inactive Twitter presence\\n- Minimal Instagram following\\n- Underutilized Pinterest\\n\\n4. Operational Limitations\\n- Small workforce (1-10 employees)\\n- Single location operation\\n- Limited technology investment\\n\\n5. Digital Functionality\\n- No e-commerce capabilities\\n- Absent mobile applications\\n- Limited online service tools\\n\\n6. Marketing Gaps\\n- No email marketing system\\n- Limited advertising diversity\\n- Incomplete rich snippet implementation'"
      ]
     },
     "execution_count": 24,
     "metadata": {},
     "output_type": "execute_result"
    }
   ],
   "source": [
    "reframe_chain=reframe_agent2_response | llm_claud | StrOutputParser()\n",
    "final_response=reframe_chain.invoke({'query':query4,'response':response})\n",
    "final_response"
   ]
  },
  {
   "cell_type": "code",
   "execution_count": 25,
   "metadata": {},
   "outputs": [
    {
     "name": "stdout",
     "output_type": "stream",
     "text": [
      "Strengths of TagLine Media Group:\n",
      "\n",
      "1. Digital Infrastructure\n",
      "- Strong desktop performance (PageSpeed: 76)\n",
      "- Mobile-responsive design\n",
      "- Secure SSL implementation\n",
      "- Proper basic SEO structure\n",
      "\n",
      "2. Customer Reputation\n",
      "- Perfect 5-star Google rating (21 reviews)\n",
      "- 100% positive customer feedback\n",
      "\n",
      "3. Social Media Presence\n",
      "- Substantial Facebook community (2,400 followers)\n",
      "- Successful YouTube channel (218.6K views, 117 videos)\n",
      "- Multi-platform presence\n",
      "\n",
      "4. Business Credibility\n",
      "- 16 years of domain presence\n",
      "- Verified business listings\n",
      "- Active Google Ads campaigns\n",
      "\n",
      "5. Core Business\n",
      "- Specialized advertising services\n",
      "- Consistent revenue seasonality\n",
      "- Stable annual revenue ($1M - $2.5M)\n",
      "\n",
      "Weaknesses:\n",
      "\n",
      "1. Website Deficiencies\n",
      "- Missing core pages (Privacy, About, Services)\n",
      "- Limited contact information\n",
      "- No location/navigation features\n",
      "\n",
      "2. Technical Issues\n",
      "- Subpar mobile speed (Score: 56)\n",
      "- Poor image optimization\n",
      "- Missing SEO elements\n",
      "\n",
      "3. Social Media Gaps\n",
      "- Inactive Twitter presence\n",
      "- Minimal Instagram following\n",
      "- Underutilized Pinterest\n",
      "\n",
      "4. Operational Limitations\n",
      "- Small workforce (1-10 employees)\n",
      "- Single location operation\n",
      "- Limited technology investment\n",
      "\n",
      "5. Digital Functionality\n",
      "- No e-commerce capabilities\n",
      "- Absent mobile applications\n",
      "- Limited online service tools\n",
      "\n",
      "6. Marketing Gaps\n",
      "- No email marketing system\n",
      "- Limited advertising diversity\n",
      "- Incomplete rich snippet implementation\n"
     ]
    }
   ],
   "source": [
    "print(final_response)"
   ]
  },
  {
   "cell_type": "code",
   "execution_count": null,
   "metadata": {},
   "outputs": [],
   "source": []
  },
  {
   "cell_type": "markdown",
   "metadata": {},
   "source": [
    "## **If Agent 3 is selected**"
   ]
  },
  {
   "cell_type": "code",
   "execution_count": 26,
   "metadata": {},
   "outputs": [
    {
     "data": {
      "text/plain": [
       "'Draft a personalized email for a TagLine Media Group business and prose my product based on their needs'"
      ]
     },
     "execution_count": 26,
     "metadata": {},
     "output_type": "execute_result"
    }
   ],
   "source": [
    "query5"
   ]
  },
  {
   "cell_type": "code",
   "execution_count": 27,
   "metadata": {},
   "outputs": [],
   "source": [
    "from core.tools.agent_tools import get_specific_company_details\n",
    "from core.prompts.agent3 import agent3_prompt,reframe_agent3_response\n",
    "from langchain_core.output_parsers import StrOutputParser\n",
    "from langchain_core.messages import HumanMessage, SystemMessage,AIMessage"
   ]
  },
  {
   "cell_type": "code",
   "execution_count": 28,
   "metadata": {},
   "outputs": [],
   "source": [
    "tools=[get_specific_company_details]\n",
    "llm_tools_agent_3=llm_claud.bind_tools(tools)\n",
    "agent3_chain=agent3_prompt|llm_tools_agent_3"
   ]
  },
  {
   "cell_type": "code",
   "execution_count": 29,
   "metadata": {},
   "outputs": [],
   "source": [
    "answer=agent3_chain.invoke({'query':query5,'chat_history':[]})"
   ]
  },
  {
   "cell_type": "code",
   "execution_count": 30,
   "metadata": {},
   "outputs": [
    {
     "data": {
      "text/plain": [
       "AIMessage(content=[{'text': \"I'll help craft a personalized email for TagLine Media Group. First, let me retrieve their company details to ensure the email is tailored to their specific needs and context.\", 'type': 'text'}, {'id': 'toolu_01Ra2Uykvy5iUyFzkPd2Zgyu', 'input': {'company_name': 'TagLine Media Group'}, 'name': 'get_specific_company_details', 'type': 'tool_use'}], additional_kwargs={}, response_metadata={'id': 'msg_01J242vUMfqStPJtEtbhRVs6', 'model': 'claude-3-5-sonnet-20241022', 'stop_reason': 'tool_use', 'stop_sequence': None, 'usage': {'cache_creation_input_tokens': 0, 'cache_read_input_tokens': 0, 'input_tokens': 1580, 'output_tokens': 99}}, id='run-f5902517-6ae3-40f1-b5b4-308b27d59428-0', tool_calls=[{'name': 'get_specific_company_details', 'args': {'company_name': 'TagLine Media Group'}, 'id': 'toolu_01Ra2Uykvy5iUyFzkPd2Zgyu', 'type': 'tool_call'}], usage_metadata={'input_tokens': 1580, 'output_tokens': 99, 'total_tokens': 1679, 'input_token_details': {'cache_read': 0, 'cache_creation': 0}})"
      ]
     },
     "execution_count": 30,
     "metadata": {},
     "output_type": "execute_result"
    }
   ],
   "source": [
    "answer"
   ]
  },
  {
   "cell_type": "code",
   "execution_count": 31,
   "metadata": {},
   "outputs": [],
   "source": [
    "if answer.tool_calls:\n",
    "    messages=[HumanMessage(query5)]\n",
    "    messages.append(answer)\n",
    "    for tool_call in answer.tool_calls:\n",
    "\n",
    "        selected_tool = {\"get_specific_company_details\":get_specific_company_details}[tool_call[\"name\"].lower()]\n",
    "\n",
    "        tool_msg = selected_tool.invoke(tool_call)\n",
    "\n",
    "        messages.append(tool_msg)"
   ]
  },
  {
   "cell_type": "code",
   "execution_count": 32,
   "metadata": {},
   "outputs": [
    {
     "data": {
      "text/plain": [
       "[HumanMessage(content='Draft a personalized email for a TagLine Media Group business and prose my product based on their needs', additional_kwargs={}, response_metadata={}),\n",
       " AIMessage(content=[{'text': \"I'll help craft a personalized email for TagLine Media Group. First, let me retrieve their company details to ensure the email is tailored to their specific needs and context.\", 'type': 'text'}, {'id': 'toolu_01Ra2Uykvy5iUyFzkPd2Zgyu', 'input': {'company_name': 'TagLine Media Group'}, 'name': 'get_specific_company_details', 'type': 'tool_use'}], additional_kwargs={}, response_metadata={'id': 'msg_01J242vUMfqStPJtEtbhRVs6', 'model': 'claude-3-5-sonnet-20241022', 'stop_reason': 'tool_use', 'stop_sequence': None, 'usage': {'cache_creation_input_tokens': 0, 'cache_read_input_tokens': 0, 'input_tokens': 1580, 'output_tokens': 99}}, id='run-f5902517-6ae3-40f1-b5b4-308b27d59428-0', tool_calls=[{'name': 'get_specific_company_details', 'args': {'company_name': 'TagLine Media Group'}, 'id': 'toolu_01Ra2Uykvy5iUyFzkPd2Zgyu', 'type': 'tool_call'}], usage_metadata={'input_tokens': 1580, 'output_tokens': 99, 'total_tokens': 1679, 'input_token_details': {'cache_read': 0, 'cache_creation': 0}}),\n",
       " ToolMessage(content='{\"BUSINESS INFO\": {\"Business Name\": \"TagLine Media Group\", \"Website Formatted\": \"http://taglinegroup.com/\", \"Website\": \"http://taglinegroup.com/\", \"Phone\": \"5202078910\", \"Default Email\": \"mc@taglinegroup.com\", \"Email List\": [\"mc@taglinegroup.com\"], \"street_address\": \"1655 N Swan Rd,\", \"city\": \"Tucson\", \"zip\": \"85712\", \"state\": \"AZ\", \"country\": \"United States\", \"Headquarters\": \"No\", \"BuzzScore\": 74}, \"CATEGORY\": {\"primarry_category_name\": \"Advertising\", \"secondary_category_name\": \"Advertising Agencies\"}, \"FIRMOGRAPHICS\": {\"locations_count\": 1, \"annual_revenue\": \"$1M - $ 2.5M\", \"monthly_technology_spend\": \"700\", \"revenue_seasonality\": \"Fall, Winter\", \"remote_only_business\": \"No\"}, \"E-Commerce\": {\"reviews\": \"Yes\", \"featured_products\": \"No\", \"promotions\": \"No\", \"coupons\": \"No\", \"wish_list\": \"No\", \"order_tracking\": \"No\", \"get_a_quote\": \"No\", \"scheduler\": \"Yes\", \"mortgage_calculator\": \"No\", \"finance\": \"No\", \"inventory_search_form\": \"No\", \"estimates_page\": \"No\", \"menu\": \"Yes\", \"facebook_shop_presence\": \"No\", \"amazon_page_presence\": \"No\", \"monthly_technology_spend_tb\": \"$0K - $1K\", \"reservation_and_booking\": \"No\", \"online_ordering\": \"No\", \"buying_page\": \"No\", \"selling_page\": \"No\", \"rentals_page\": \"No\"}, \"Multi-Screen Compatibility\": {\"Mobile-Friendly\": \"Yes\", \"Responsive Design\": \"Yes\", \"Page Speed Score (Mobile)\": 56}, \"Advertising\": {\"Google Ads\": \"Yes\", \"Display Ads\": \"No\", \"Facebook Ads\": \"No\", \"Yelp Ads\": \"No\", \"Instagram Ads\": \"2\"}, \"Social Media Presence\": {\"facebook_business_page- presence\": \"Yes\", \"facebook_business_page- fb_followers\": \"2,400\", \"facebook_business_page- page_url\": \"https://facebook.com/pg/43972430865\", \"twitter_business_profile- presence\": \"Yes\", \"twitter_business_profile- twitter_followers\": \"0\", \"twitter_business_profile- tweet_count\": \"0\", \"twitter_business_profile- page_url\": \"https://twitter.com/TaglineMediaAZ\", \"youtube_business_channel- presence\": \"Yes\", \"youtube_business_channel- yt_videos_counts\": \"117\", \"youtube_business_channel- yt_subscribers_counts\": \"70\", \"youtube_business_channel- yt_views_counts\": \"218.6K\", \"youtube_business_channel- page_url\": \"https://www.youtube.com/@TaglineMedia\", \"linkedin_company_profile- presence\": \"Yes\", \"linkedin_company_profile- page_url\": \"https://www.linkedin.com/company/tagline-media\", \"pinterest- presence\": \"Yes\", \"pinterest- pinterest_followers\": \"No\", \"pinterest- pinterest_following\": \"No\", \"pinterest- pinterest_pins\": \"No\", \"pinterest- pinterest_boards\": \"No\", \"pinterest- page_url\": \"https://www.pinterest.com/foreignerds\", \"instagram- presence\": \"Yes\", \"instagram- insta_posts\": \"145\", \"instagram- insta_followers\": \"41\", \"instagram- insta_following\": \"29\", \"instagram- page_url\": \"https://www.instagram.com/taglinemediaaz\", \"fb_fans- Facebook Likes\": \"2,379\", \"fbcheckins- Facebook Check ins\": \"64\", \"tweet_friends_count- Twitter Following\": \"9\", \"tweet_likes- Twitter Likes\": \"Yes\", \"tweet_description- Twitter Description\": \"No\", \"pinterest_profile_image_url- Pinterest Profile Image (Link)\": \"No\", \"pinterest_domain_verified- Pinterest Domain Verified\": \"No\", \"pinterest_is_verified_merchant- Pinterest Verified Merchant\": \"No\"}, \"Local Business Presence\": {\"google_places-Listed\": \"Yes\", \"google_places-Claimed\": \"Yes\", \"google_places-NAP\": \"No\", \"google_places-local_directory_googleplaces_reviews\": \"21\", \"google_places-local_directory_googleplaces_ratings\": \"5\", \"yelp-Listed\": \"Yes\", \"yelp-Claimed\": \"Yes\", \"yelp-NAP\": \"Yes\", \"yelp-local_directory_yelp_reviews\": \"No\", \"yelp-local_directory_yelp_ratings\": \"No\", \"yellow_pages-Listed\": \"Yes\", \"yellow_pages-Claimed\": \"Yes\", \"yellow_pages-NAP\": \"Yes\", \"nokia_places-Listed\": \"Yes\", \"nokia_places-Claimed\": \"No\", \"nokia_places-NAP\": \"No\", \"nextdoor-Listed\": \"Yes\", \"nextdoor-Claimed\": \"Yes\", \"nextdoor-NAP\": \"Yes\", \"nextdoor-businesss_name\": \"TagLine Media Group\", \"nextdoor-neighborhood_favorite\": \"No\", \"google_places_claimed-Claimed\": \"Yes\", \"yelp_claimed-Claimed\": \"Yes\", \"yellow_pages_climed-Claimed\": \"Yes\", \"nokia_places_climed-Claimed\": \"No\"}, \"Marketplace\": {\"Thumbtack\": \"No\", \"Uber Eats\": \"No\", \"OpenTable\": \"No\", \"iOS App\": \"No\", \"Android App\": \"No\"}, \"Content Analysis\": {\"Local Phone Number\": \"No\", \"Address on Homepage\": \"No\", \"Map & Directions\": \"No\", \"Contact Us\": \"No\", \"Privacy Policy\": \"No\", \"About Page\": \"No\", \"Services Page\": \"No\", \"Newsletter\": \"No\"}, \"Infrastructure Robustness\": {\"PageSpeed Score (Desktop)\": \"76\", \"Caching Enabled\": 2, \"Image Size Optimization\": \"No\", \"Text Compression\": \"No\", \"Server Response Time\": \"0.023 s\", \"No Page Redirects\": \"Yes\", \"Prioritize Visible Content\": 2, \"Wordpress\": \"Yes\", \"Google Analytics\": \"Yes\", \"SSL\": \"Yes\"}, \"Google Reviews\": {\"Negative\": \"No\", \"Neutral\": \"No\", \"Positive\": \"100%\"}, \"HR & Organization\": {\"Employee Count\": \"1 - 10\", \"Employee Reviews\": \"No\", \"Employee Ratings\": \"No\", \"Open Positions\": \"No\"}, \"SEO Analysis\": {\"Domain Redirection\": \"Yes\", \"Robots.txt\": \"Yes\", \"Sitemap.xml\": \"Yes\", \"Title Tag Compliance\": \"Yes\", \"Location In Title\": \"Yes\", \"Unique Title\": \"No\", \"Meta Description Compliance\": \"Yes\", \"Headings Included\": \"Yes\", \"Image Alt Text\": \"No\", \"Frames Excluded\": \"No\", \"Flash Excluded\": \"Yes\", \"Backlinks\": \"Yes\", \"Domain Authority\": \"No\", \"Domain Age\": \"16 Y\", \"Rich Snippets\": \"No\", \"SEF URL\": \"Yes\", \"Sitemap.html\": \"No\", \"Trust Flow Score\": \"11\"}}', name='get_specific_company_details', tool_call_id='toolu_01Ra2Uykvy5iUyFzkPd2Zgyu')]"
      ]
     },
     "execution_count": 32,
     "metadata": {},
     "output_type": "execute_result"
    }
   ],
   "source": [
    "messages"
   ]
  },
  {
   "cell_type": "code",
   "execution_count": 33,
   "metadata": {},
   "outputs": [],
   "source": [
    "response=llm_tools_agent_3.invoke(messages).content"
   ]
  },
  {
   "cell_type": "code",
   "execution_count": 34,
   "metadata": {},
   "outputs": [
    {
     "name": "stdout",
     "output_type": "stream",
     "text": [
      "Based on the company details, I'll draft a personalized email that takes into account TagLine Media Group's profile as an advertising agency with strong digital presence and multimedia capabilities. Here's a suggested email draft:\n",
      "\n",
      "Subject: Enhancing Your Digital Marketing Arsenal at TagLine Media Group\n",
      "\n",
      "Dear TagLine Media Team,\n",
      "\n",
      "I noticed your impressive work in the Tucson advertising landscape and your strong commitment to digital excellence, particularly evident through your robust YouTube presence with over 218K views and your established social media footprint across multiple platforms.\n",
      "\n",
      "Given your focus on comprehensive media solutions and your current technology investment of around $700 monthly, I wanted to introduce a solution that could complement your existing services and help you deliver even more value to your clients.\n",
      "\n",
      "[Your Product Name] could be particularly beneficial for your agency, especially considering:\n",
      "\n",
      "1. Your strong emphasis on multimedia content (noted from your 117 YouTube videos)\n",
      "2. Your active presence across multiple social platforms\n",
      "3. Your focus on mobile-friendly solutions (as evidenced by your responsive design implementation)\n",
      "\n",
      "What sets our solution apart is [specific feature that aligns with their advertising agency needs], which could integrate seamlessly with your current service offerings to clients.\n",
      "\n",
      "I'd welcome the opportunity to schedule a brief demonstration to show how [Your Product Name] could enhance your agency's capabilities. Would you have 15 minutes this week for a quick discussion?\n",
      "\n",
      "Best regards,\n",
      "[Your name]\n",
      "\n",
      "P.S. I noticed your excellent 5-star rating on Google Places with 21 reviews - impressive client satisfaction that aligns with our own commitment to quality.\n",
      "\n",
      "---\n",
      "\n",
      "Notes about the personalization:\n",
      "1. Referenced their location (Tucson) and industry focus\n",
      "2. Mentioned specific metrics from their digital presence\n",
      "3. Acknowledged their existing technology investment\n",
      "4. Referenced their strong client satisfaction metrics\n",
      "5. Kept the tone professional and data-driven, fitting for an advertising agency\n",
      "6. Included specific numbers and achievements to show research and attention to detail\n",
      "\n",
      "To make this email even more effective, you would need to:\n",
      "1. Insert your specific product name\n",
      "2. Add your personal/company details\n",
      "3. Include specific features of your product that would benefit an advertising agency\n",
      "4. Add any relevant call-to-action links or contact information\n",
      "\n",
      "Would you like me to modify any part of this email or would you like to provide specific product details to make it even more targeted?\n"
     ]
    }
   ],
   "source": [
    "print(response)"
   ]
  },
  {
   "cell_type": "code",
   "execution_count": 35,
   "metadata": {},
   "outputs": [
    {
     "data": {
      "text/plain": [
       "\"Subject: Enhancing Your Digital Marketing Arsenal at TagLine Media Group\\n\\nDear TagLine Media Team,\\n\\nI noticed your impressive work in the Tucson advertising landscape and your strong commitment to digital excellence, particularly evident through your robust YouTube presence with over 218K views and your established social media footprint.\\n\\nGiven your focus on comprehensive media solutions, I wanted to introduce [Your Product Name] that could complement your existing services and help you deliver even more value to your clients.\\n\\nOur solution could be particularly beneficial for your agency by:\\n1. Seamlessly integrating with your multimedia content creation\\n2. Enhancing your cross-platform social media management\\n3. Strengthening your mobile-friendly solutions portfolio\\n\\nWhat sets our solution apart is [specific feature], which could integrate perfectly with your current service offerings to clients.\\n\\nI'd welcome the opportunity to schedule a brief 15-minute demonstration to show how [Your Product Name] could enhance your agency's capabilities. Would you be available this week for a quick discussion?\\n\\nBest regards,\\n[Your name]\\n\\nP.S. Your excellent 5-star rating on Google Places reflects the quality we aim to match with our solutions.\""
      ]
     },
     "execution_count": 35,
     "metadata": {},
     "output_type": "execute_result"
    }
   ],
   "source": [
    "reframe_chain=reframe_agent3_response | llm_claud | StrOutputParser()\n",
    "final_response=reframe_chain.invoke({'query':query5,'response':response})\n",
    "final_response"
   ]
  },
  {
   "cell_type": "code",
   "execution_count": 36,
   "metadata": {},
   "outputs": [
    {
     "name": "stdout",
     "output_type": "stream",
     "text": [
      "Subject: Enhancing Your Digital Marketing Arsenal at TagLine Media Group\n",
      "\n",
      "Dear TagLine Media Team,\n",
      "\n",
      "I noticed your impressive work in the Tucson advertising landscape and your strong commitment to digital excellence, particularly evident through your robust YouTube presence with over 218K views and your established social media footprint.\n",
      "\n",
      "Given your focus on comprehensive media solutions, I wanted to introduce [Your Product Name] that could complement your existing services and help you deliver even more value to your clients.\n",
      "\n",
      "Our solution could be particularly beneficial for your agency by:\n",
      "1. Seamlessly integrating with your multimedia content creation\n",
      "2. Enhancing your cross-platform social media management\n",
      "3. Strengthening your mobile-friendly solutions portfolio\n",
      "\n",
      "What sets our solution apart is [specific feature], which could integrate perfectly with your current service offerings to clients.\n",
      "\n",
      "I'd welcome the opportunity to schedule a brief 15-minute demonstration to show how [Your Product Name] could enhance your agency's capabilities. Would you be available this week for a quick discussion?\n",
      "\n",
      "Best regards,\n",
      "[Your name]\n",
      "\n",
      "P.S. Your excellent 5-star rating on Google Places reflects the quality we aim to match with our solutions.\n"
     ]
    }
   ],
   "source": [
    "print(final_response)"
   ]
  },
  {
   "cell_type": "code",
   "execution_count": null,
   "metadata": {},
   "outputs": [],
   "source": []
  }
 ],
 "metadata": {
  "kernelspec": {
   "display_name": ".venv",
   "language": "python",
   "name": "python3"
  },
  "language_info": {
   "codemirror_mode": {
    "name": "ipython",
    "version": 3
   },
   "file_extension": ".py",
   "mimetype": "text/x-python",
   "name": "python",
   "nbconvert_exporter": "python",
   "pygments_lexer": "ipython3",
   "version": "3.11.6"
  }
 },
 "nbformat": 4,
 "nbformat_minor": 2
}
