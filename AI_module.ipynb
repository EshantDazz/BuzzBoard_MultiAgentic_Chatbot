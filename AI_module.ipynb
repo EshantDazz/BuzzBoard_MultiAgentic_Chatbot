{
 "cells": [
  {
   "cell_type": "code",
   "execution_count": null,
   "metadata": {},
   "outputs": [],
   "source": []
  },
  {
   "cell_type": "code",
   "execution_count": 1,
   "metadata": {},
   "outputs": [],
   "source": [
    "query1=\"Analyze the online presence of Insight Marketing Design and identify areas for improvement.\"\n",
    "query2=\"sdjkfbksdbfkjbjk\"\n",
    "query3=\"Find businesses in the Computer Contractors category with low local presence but high google ads spend.\"\n",
    "query4=\"What are the strengths and weaknesses of TagLine Media Group?\"\n",
    "query5=\"Draft a personalized email for a TagLine Media Group business and prose my product based on their needs\""
   ]
  },
  {
   "cell_type": "markdown",
   "metadata": {},
   "source": [
    "## **Initialise the LLM**"
   ]
  },
  {
   "cell_type": "code",
   "execution_count": 2,
   "metadata": {},
   "outputs": [
    {
     "data": {
      "text/plain": [
       "True"
      ]
     },
     "execution_count": 2,
     "metadata": {},
     "output_type": "execute_result"
    }
   ],
   "source": [
    "from langchain_anthropic import ChatAnthropic\n",
    "from langchain_groq import ChatGroq\n",
    "from dotenv import load_dotenv\n",
    "import os\n",
    "load_dotenv()"
   ]
  },
  {
   "cell_type": "code",
   "execution_count": null,
   "metadata": {},
   "outputs": [],
   "source": []
  },
  {
   "cell_type": "code",
   "execution_count": 3,
   "metadata": {},
   "outputs": [],
   "source": [
    "llm_claud=ChatAnthropic(model='claude-3-5-sonnet-20241022',temperature=0,max_retries=2)\n",
    "llm_claud_basic=ChatAnthropic(model='claude-3-5-haiku-20241022',temperature=0,max_retries=2)\n",
    "llm_llama=ChatGroq(model=\"llama-3.3-70b-versatile\",temperature=0,max_retries=3)"
   ]
  },
  {
   "cell_type": "code",
   "execution_count": null,
   "metadata": {},
   "outputs": [],
   "source": []
  },
  {
   "cell_type": "markdown",
   "metadata": {},
   "source": [
    "## **Agent Allocator will look at the query and will decide how to further process it**"
   ]
  },
  {
   "cell_type": "code",
   "execution_count": 4,
   "metadata": {},
   "outputs": [],
   "source": [
    "## Import the prompt and pydantic class to connect the llm\n",
    "\n",
    "from core.prompts.task_allocator import task_allocator_prompt\n",
    "from core.pydantic_structured_response_classes.task_allocator_pd import TaskAllocationResponse"
   ]
  },
  {
   "cell_type": "code",
   "execution_count": 5,
   "metadata": {},
   "outputs": [],
   "source": [
    "llm_task_allocation=llm_claud.with_structured_output(TaskAllocationResponse)\n",
    "task_allocation_chain=task_allocator_prompt | llm_task_allocation"
   ]
  },
  {
   "cell_type": "code",
   "execution_count": 6,
   "metadata": {},
   "outputs": [],
   "source": [
    "chat_history=[]\n",
    "agent_selected=(task_allocation_chain.invoke({\"query\":query5,\"chat_history\":chat_history})).score"
   ]
  },
  {
   "cell_type": "code",
   "execution_count": 7,
   "metadata": {},
   "outputs": [
    {
     "data": {
      "text/plain": [
       "3"
      ]
     },
     "execution_count": 7,
     "metadata": {},
     "output_type": "execute_result"
    }
   ],
   "source": [
    "agent_selected"
   ]
  },
  {
   "cell_type": "markdown",
   "metadata": {},
   "source": [
    "## **If Agent 1 is slected**"
   ]
  },
  {
   "cell_type": "code",
   "execution_count": 8,
   "metadata": {},
   "outputs": [],
   "source": [
    "from core.tools.agent_tools import get_huge_corpus_for_all_companies,get_specific_company_details,calculator\n",
    "from core.prompts.agent1 import agent1_prompt,reframe_agent1_response\n",
    "from langchain_core.output_parsers import StrOutputParser\n",
    "from langchain_core.messages import HumanMessage, SystemMessage,AIMessage"
   ]
  },
  {
   "cell_type": "code",
   "execution_count": null,
   "metadata": {},
   "outputs": [],
   "source": []
  },
  {
   "cell_type": "code",
   "execution_count": 9,
   "metadata": {},
   "outputs": [],
   "source": [
    "tools=[get_huge_corpus_for_all_companies,get_specific_company_details,calculator]\n",
    "llm_tools_agent_1=llm_claud.bind_tools(tools)\n",
    "agent1_chain=agent1_prompt|llm_tools_agent_1"
   ]
  },
  {
   "cell_type": "code",
   "execution_count": 10,
   "metadata": {},
   "outputs": [],
   "source": [
    "answer=agent1_chain.invoke({'query':query3,'chat_history':[]})\n",
    "\n",
    "    "
   ]
  },
  {
   "cell_type": "code",
   "execution_count": 11,
   "metadata": {},
   "outputs": [],
   "source": [
    "if answer.tool_calls:\n",
    "    messages=[HumanMessage(query3)]\n",
    "    messages.append(answer)\n",
    "    for tool_call in answer.tool_calls:\n",
    "\n",
    "        selected_tool = {\"get_huge_corpus_for_all_companies\": get_huge_corpus_for_all_companies,\"get_specific_company_details\":get_specific_company_details,\"calculator\":calculator}[tool_call[\"name\"].lower()]\n",
    "\n",
    "        tool_msg = selected_tool.invoke(tool_call)\n",
    "\n",
    "        messages.append(tool_msg)\n"
   ]
  },
  {
   "cell_type": "code",
   "execution_count": 12,
   "metadata": {},
   "outputs": [],
   "source": [
    "response=llm_tools_agent_1.invoke(messages).content"
   ]
  },
  {
   "cell_type": "code",
   "execution_count": 13,
   "metadata": {},
   "outputs": [
    {
     "name": "stdout",
     "output_type": "stream",
     "text": [
      "Based on the data, I'll analyze businesses in the Computer Contractors category to identify those with low local presence but high Google Ads spend. Here are the key findings:\n",
      "\n",
      "1. Zrix Inc:\n",
      "- Low local presence indicators:\n",
      "  * No Google Places reviews\n",
      "  * Not listed on multiple local directories\n",
      "  * No local presence on Nextdoor\n",
      "  * Limited local business citations\n",
      "- High Google Ads activity:\n",
      "  * Currently running Google Ads campaigns\n",
      "  * Significant display advertising presence\n",
      "  * Monthly technology spend indicates investment in digital marketing\n",
      "\n",
      "2. Urolime Technologies:\n",
      "- Low local presence indicators:\n",
      "  * No Google Places reviews\n",
      "  * Limited local directory presence\n",
      "  * No Yelp presence\n",
      "  * Minimal local business citations\n",
      "- High Google Ads activity:\n",
      "  * Active Google Ads campaigns\n",
      "  * High annual revenue ($10M - $25M) suggesting significant ad spend capability\n",
      "  * Strong digital presence with high backlink count (74,712)\n",
      "\n",
      "3. Jackrabbit:\n",
      "- Moderate to high local presence:\n",
      "  * 149 Google reviews\n",
      "  * Present on multiple local directories\n",
      "  * Strong local ratings (4.7 on Google)\n",
      "- Active Google Ads presence:\n",
      "  * Running Google Ads campaigns\n",
      "  * Strategic digital marketing investment\n",
      "  * Technology spend focused on online presence\n",
      "\n",
      "Key Opportunity: Zrix Inc and Urolime Technologies represent the best examples of businesses with low local presence but high Google Ads spend. These companies appear to be focusing their marketing efforts on digital channels while having minimal local business presence, suggesting they may be prioritizing online lead generation over local business development.\n",
      "\n",
      "Characteristics of these businesses:\n",
      "- Limited physical location optimization\n",
      "- Strong digital marketing budgets\n",
      "- Focus on online customer acquisition\n",
      "- Minimal investment in local business directories\n",
      "- Higher technology spend relative to local presence\n",
      "\n",
      "This pattern suggests these businesses may be targeting broader markets through digital channels rather than focusing on local market penetration.\n"
     ]
    }
   ],
   "source": [
    "print(response)"
   ]
  },
  {
   "cell_type": "code",
   "execution_count": 14,
   "metadata": {},
   "outputs": [
    {
     "data": {
      "text/plain": [
       "'Computer Contractors with Low Local Presence & High Google Ads Spend:\\n\\n1. Zrix Inc\\n   - Local Presence Metrics:\\n     * Zero Google Places reviews\\n     * Minimal local directory listings\\n     * No local business citations\\n   - Google Ads Activity:\\n     * Active campaign runner\\n     * Heavy display advertising presence\\n     * Substantial digital marketing investment\\n\\n2. Urolime Technologies\\n   - Local Presence Metrics:\\n     * Zero Google Places reviews\\n     * Minimal local directory presence\\n     * No Yelp listings\\n   - Google Ads Activity:\\n     * Active campaign runner\\n     * High revenue ($10M-$25M) supporting significant ad spend\\n     * Strong digital footprint (74,712 backlinks)\\n\\nBusiness Pattern Analysis:\\n- Both companies demonstrate minimal local market optimization\\n- Heavy investment in digital marketing channels\\n- Focus on online lead generation over local presence\\n- Prioritize broader market reach through paid advertising\\n- Higher allocation of budget to technology and digital advertising'"
      ]
     },
     "execution_count": 14,
     "metadata": {},
     "output_type": "execute_result"
    }
   ],
   "source": [
    "reframe_chain=reframe_agent1_response | llm_claud | StrOutputParser()\n",
    "final_response=reframe_chain.invoke({'query':query3,'response':response})\n",
    "final_response"
   ]
  },
  {
   "cell_type": "code",
   "execution_count": 15,
   "metadata": {},
   "outputs": [
    {
     "name": "stdout",
     "output_type": "stream",
     "text": [
      "Computer Contractors with Low Local Presence & High Google Ads Spend:\n",
      "\n",
      "1. Zrix Inc\n",
      "   - Local Presence Metrics:\n",
      "     * Zero Google Places reviews\n",
      "     * Minimal local directory listings\n",
      "     * No local business citations\n",
      "   - Google Ads Activity:\n",
      "     * Active campaign runner\n",
      "     * Heavy display advertising presence\n",
      "     * Substantial digital marketing investment\n",
      "\n",
      "2. Urolime Technologies\n",
      "   - Local Presence Metrics:\n",
      "     * Zero Google Places reviews\n",
      "     * Minimal local directory presence\n",
      "     * No Yelp listings\n",
      "   - Google Ads Activity:\n",
      "     * Active campaign runner\n",
      "     * High revenue ($10M-$25M) supporting significant ad spend\n",
      "     * Strong digital footprint (74,712 backlinks)\n",
      "\n",
      "Business Pattern Analysis:\n",
      "- Both companies demonstrate minimal local market optimization\n",
      "- Heavy investment in digital marketing channels\n",
      "- Focus on online lead generation over local presence\n",
      "- Prioritize broader market reach through paid advertising\n",
      "- Higher allocation of budget to technology and digital advertising\n"
     ]
    }
   ],
   "source": [
    "print(final_response)"
   ]
  },
  {
   "cell_type": "code",
   "execution_count": null,
   "metadata": {},
   "outputs": [],
   "source": []
  },
  {
   "cell_type": "markdown",
   "metadata": {},
   "source": [
    "## **If Agent2 is selected**"
   ]
  },
  {
   "cell_type": "code",
   "execution_count": 16,
   "metadata": {},
   "outputs": [
    {
     "data": {
      "text/plain": [
       "'What are the strengths and weaknesses of TagLine Media Group?'"
      ]
     },
     "execution_count": 16,
     "metadata": {},
     "output_type": "execute_result"
    }
   ],
   "source": [
    "query4"
   ]
  },
  {
   "cell_type": "code",
   "execution_count": 17,
   "metadata": {},
   "outputs": [],
   "source": [
    "from core.tools.agent_tools import get_specific_company_details,calculator\n",
    "from core.prompts.agent2 import agent2_prompt,reframe_agent2_response\n",
    "from langchain_core.output_parsers import StrOutputParser\n",
    "from langchain_core.messages import HumanMessage, SystemMessage,AIMessage"
   ]
  },
  {
   "cell_type": "code",
   "execution_count": 18,
   "metadata": {},
   "outputs": [],
   "source": [
    "tools=[get_specific_company_details,calculator]\n",
    "llm_tools_agent_2=llm_claud.bind_tools(tools)\n",
    "agent2_chain=agent1_prompt|llm_tools_agent_2"
   ]
  },
  {
   "cell_type": "code",
   "execution_count": 19,
   "metadata": {},
   "outputs": [],
   "source": [
    "answer=agent2_chain.invoke({'query':query4,'chat_history':[]})"
   ]
  },
  {
   "cell_type": "code",
   "execution_count": 20,
   "metadata": {},
   "outputs": [],
   "source": [
    "if answer.tool_calls:\n",
    "    messages=[HumanMessage(query4)]\n",
    "    messages.append(answer)\n",
    "    for tool_call in answer.tool_calls:\n",
    "\n",
    "        selected_tool = {\"get_specific_company_details\":get_specific_company_details,\"calculator\":calculator}[tool_call[\"name\"].lower()]\n",
    "\n",
    "        tool_msg = selected_tool.invoke(tool_call)\n",
    "\n",
    "        messages.append(tool_msg)"
   ]
  },
  {
   "cell_type": "code",
   "execution_count": 21,
   "metadata": {},
   "outputs": [
    {
     "data": {
      "text/plain": [
       "[HumanMessage(content='What are the strengths and weaknesses of TagLine Media Group?', additional_kwargs={}, response_metadata={}),\n",
       " AIMessage(content=[{'text': \"I'll help you analyze the strengths and weaknesses of TagLine Media Group by retrieving their specific company details and analyzing the data.\", 'type': 'text'}, {'id': 'toolu_013a47WEfyZ95kb1YkhN5FwA', 'input': {'company_name': 'TagLine Media Group'}, 'name': 'get_specific_company_details', 'type': 'tool_use'}], additional_kwargs={}, response_metadata={'id': 'msg_01KtuMKGUEqAUqpJrzbEfajj', 'model': 'claude-3-5-sonnet-20241022', 'stop_reason': 'tool_use', 'stop_sequence': None, 'usage': {'cache_creation_input_tokens': 0, 'cache_read_input_tokens': 0, 'input_tokens': 1194, 'output_tokens': 91}}, id='run-0cd31ec4-eb47-4887-9ff4-7eaff727b52a-0', tool_calls=[{'name': 'get_specific_company_details', 'args': {'company_name': 'TagLine Media Group'}, 'id': 'toolu_013a47WEfyZ95kb1YkhN5FwA', 'type': 'tool_call'}], usage_metadata={'input_tokens': 1194, 'output_tokens': 91, 'total_tokens': 1285, 'input_token_details': {'cache_read': 0, 'cache_creation': 0}}),\n",
       " ToolMessage(content='{\"BUSINESS INFO\": {\"Business Name\": \"TagLine Media Group\", \"Website Formatted\": \"http://taglinegroup.com/\", \"Website\": \"http://taglinegroup.com/\", \"Phone\": \"5202078910\", \"Default Email\": \"mc@taglinegroup.com\", \"Email List\": [\"mc@taglinegroup.com\"], \"street_address\": \"1655 N Swan Rd,\", \"city\": \"Tucson\", \"zip\": \"85712\", \"state\": \"AZ\", \"country\": \"United States\", \"Headquarters\": \"No\", \"BuzzScore\": 74}, \"CATEGORY\": {\"primarry_category_name\": \"Advertising\", \"secondary_category_name\": \"Advertising Agencies\"}, \"FIRMOGRAPHICS\": {\"locations_count\": 1, \"annual_revenue\": \"$1M - $ 2.5M\", \"monthly_technology_spend\": \"700\", \"revenue_seasonality\": \"Fall, Winter\", \"remote_only_business\": \"No\"}, \"E-Commerce\": {\"reviews\": \"Yes\", \"featured_products\": \"No\", \"promotions\": \"No\", \"coupons\": \"No\", \"wish_list\": \"No\", \"order_tracking\": \"No\", \"get_a_quote\": \"No\", \"scheduler\": \"Yes\", \"mortgage_calculator\": \"No\", \"finance\": \"No\", \"inventory_search_form\": \"No\", \"estimates_page\": \"No\", \"menu\": \"Yes\", \"facebook_shop_presence\": \"No\", \"amazon_page_presence\": \"No\", \"monthly_technology_spend_tb\": \"$0K - $1K\", \"reservation_and_booking\": \"No\", \"online_ordering\": \"No\", \"buying_page\": \"No\", \"selling_page\": \"No\", \"rentals_page\": \"No\"}, \"Multi-Screen Compatibility\": {\"Mobile-Friendly\": \"Yes\", \"Responsive Design\": \"Yes\", \"Page Speed Score (Mobile)\": 56}, \"Advertising\": {\"Google Ads\": \"Yes\", \"Display Ads\": \"No\", \"Facebook Ads\": \"No\", \"Yelp Ads\": \"No\", \"Instagram Ads\": \"2\"}, \"Social Media Presence\": {\"facebook_business_page- presence\": \"Yes\", \"facebook_business_page- fb_followers\": \"2,400\", \"facebook_business_page- page_url\": \"https://facebook.com/pg/43972430865\", \"twitter_business_profile- presence\": \"Yes\", \"twitter_business_profile- twitter_followers\": \"0\", \"twitter_business_profile- tweet_count\": \"0\", \"twitter_business_profile- page_url\": \"https://twitter.com/TaglineMediaAZ\", \"youtube_business_channel- presence\": \"Yes\", \"youtube_business_channel- yt_videos_counts\": \"117\", \"youtube_business_channel- yt_subscribers_counts\": \"70\", \"youtube_business_channel- yt_views_counts\": \"218.6K\", \"youtube_business_channel- page_url\": \"https://www.youtube.com/@TaglineMedia\", \"linkedin_company_profile- presence\": \"Yes\", \"linkedin_company_profile- page_url\": \"https://www.linkedin.com/company/tagline-media\", \"pinterest- presence\": \"Yes\", \"pinterest- pinterest_followers\": \"No\", \"pinterest- pinterest_following\": \"No\", \"pinterest- pinterest_pins\": \"No\", \"pinterest- pinterest_boards\": \"No\", \"pinterest- page_url\": \"https://www.pinterest.com/foreignerds\", \"instagram- presence\": \"Yes\", \"instagram- insta_posts\": \"145\", \"instagram- insta_followers\": \"41\", \"instagram- insta_following\": \"29\", \"instagram- page_url\": \"https://www.instagram.com/taglinemediaaz\", \"fb_fans- Facebook Likes\": \"2,379\", \"fbcheckins- Facebook Check ins\": \"64\", \"tweet_friends_count- Twitter Following\": \"9\", \"tweet_likes- Twitter Likes\": \"Yes\", \"tweet_description- Twitter Description\": \"No\", \"pinterest_profile_image_url- Pinterest Profile Image (Link)\": \"No\", \"pinterest_domain_verified- Pinterest Domain Verified\": \"No\", \"pinterest_is_verified_merchant- Pinterest Verified Merchant\": \"No\"}, \"Local Business Presence\": {\"google_places-Listed\": \"Yes\", \"google_places-Claimed\": \"Yes\", \"google_places-NAP\": \"No\", \"google_places-local_directory_googleplaces_reviews\": \"21\", \"google_places-local_directory_googleplaces_ratings\": \"5\", \"yelp-Listed\": \"Yes\", \"yelp-Claimed\": \"Yes\", \"yelp-NAP\": \"Yes\", \"yelp-local_directory_yelp_reviews\": \"No\", \"yelp-local_directory_yelp_ratings\": \"No\", \"yellow_pages-Listed\": \"Yes\", \"yellow_pages-Claimed\": \"Yes\", \"yellow_pages-NAP\": \"Yes\", \"nokia_places-Listed\": \"Yes\", \"nokia_places-Claimed\": \"No\", \"nokia_places-NAP\": \"No\", \"nextdoor-Listed\": \"Yes\", \"nextdoor-Claimed\": \"Yes\", \"nextdoor-NAP\": \"Yes\", \"nextdoor-businesss_name\": \"TagLine Media Group\", \"nextdoor-neighborhood_favorite\": \"No\", \"google_places_claimed-Claimed\": \"Yes\", \"yelp_claimed-Claimed\": \"Yes\", \"yellow_pages_climed-Claimed\": \"Yes\", \"nokia_places_climed-Claimed\": \"No\"}, \"Marketplace\": {\"Thumbtack\": \"No\", \"Uber Eats\": \"No\", \"OpenTable\": \"No\", \"iOS App\": \"No\", \"Android App\": \"No\"}, \"Content Analysis\": {\"Local Phone Number\": \"No\", \"Address on Homepage\": \"No\", \"Map & Directions\": \"No\", \"Contact Us\": \"No\", \"Privacy Policy\": \"No\", \"About Page\": \"No\", \"Services Page\": \"No\", \"Newsletter\": \"No\"}, \"Infrastructure Robustness\": {\"PageSpeed Score (Desktop)\": \"76\", \"Caching Enabled\": 2, \"Image Size Optimization\": \"No\", \"Text Compression\": \"No\", \"Server Response Time\": \"0.023 s\", \"No Page Redirects\": \"Yes\", \"Prioritize Visible Content\": 2, \"Wordpress\": \"Yes\", \"Google Analytics\": \"Yes\", \"SSL\": \"Yes\"}, \"Google Reviews\": {\"Negative\": \"No\", \"Neutral\": \"No\", \"Positive\": \"100%\"}, \"HR & Organization\": {\"Employee Count\": \"1 - 10\", \"Employee Reviews\": \"No\", \"Employee Ratings\": \"No\", \"Open Positions\": \"No\"}, \"SEO Analysis\": {\"Domain Redirection\": \"Yes\", \"Robots.txt\": \"Yes\", \"Sitemap.xml\": \"Yes\", \"Title Tag Compliance\": \"Yes\", \"Location In Title\": \"Yes\", \"Unique Title\": \"No\", \"Meta Description Compliance\": \"Yes\", \"Headings Included\": \"Yes\", \"Image Alt Text\": \"No\", \"Frames Excluded\": \"No\", \"Flash Excluded\": \"Yes\", \"Backlinks\": \"Yes\", \"Domain Authority\": \"No\", \"Domain Age\": \"16 Y\", \"Rich Snippets\": \"No\", \"SEF URL\": \"Yes\", \"Sitemap.html\": \"No\", \"Trust Flow Score\": \"11\"}}', name='get_specific_company_details', tool_call_id='toolu_013a47WEfyZ95kb1YkhN5FwA')]"
      ]
     },
     "execution_count": 21,
     "metadata": {},
     "output_type": "execute_result"
    }
   ],
   "source": [
    "messages"
   ]
  },
  {
   "cell_type": "code",
   "execution_count": null,
   "metadata": {},
   "outputs": [],
   "source": []
  },
  {
   "cell_type": "code",
   "execution_count": 22,
   "metadata": {},
   "outputs": [],
   "source": [
    "response=llm_tools_agent_2.invoke(messages).content"
   ]
  },
  {
   "cell_type": "code",
   "execution_count": 23,
   "metadata": {},
   "outputs": [
    {
     "name": "stdout",
     "output_type": "stream",
     "text": [
      "Based on the data, here are the key strengths and weaknesses of TagLine Media Group:\n",
      "\n",
      "Strengths:\n",
      "1. Strong Digital Infrastructure:\n",
      "- High desktop PageSpeed score (76)\n",
      "- SSL-enabled website\n",
      "- Mobile-friendly with responsive design\n",
      "- Well-implemented basic SEO elements (robots.txt, sitemap.xml, title tags)\n",
      "\n",
      "2. Excellent Customer Satisfaction:\n",
      "- 100% positive Google Reviews\n",
      "- 5-star rating on Google Places (21 reviews)\n",
      "\n",
      "3. Diverse Social Media Presence:\n",
      "- Active presence across multiple platforms (Facebook, Twitter, YouTube, LinkedIn, Pinterest, Instagram)\n",
      "- Particularly strong on YouTube with:\n",
      "  * 117 videos\n",
      "  * 218.6K views\n",
      "  * 70 subscribers\n",
      "- Solid Facebook following (2,400 followers)\n",
      "\n",
      "4. Local Business Visibility:\n",
      "- Well-established presence on major local directories\n",
      "- Claimed business listings on Google Places, Yelp, Yellow Pages, and Nextdoor\n",
      "- Strong BuzzScore of 74 indicating good overall online presence\n",
      "\n",
      "5. Technical Foundation:\n",
      "- WordPress-based website with Google Analytics integration\n",
      "- Quick server response time (0.023 seconds)\n",
      "- Domain age of 16 years showing established online presence\n",
      "\n",
      "Weaknesses:\n",
      "1. Limited Scale:\n",
      "- Small company size (1-10 employees)\n",
      "- Relatively modest annual revenue ($1M - $2.5M)\n",
      "- Single location operation\n",
      "\n",
      "2. Content Marketing Gaps:\n",
      "- Missing key website elements like:\n",
      "  * Privacy Policy\n",
      "  * About Page\n",
      "  * Services Page\n",
      "  * Newsletter\n",
      "  * Contact Us page\n",
      "- No address or local phone number on homepage\n",
      "\n",
      "3. Social Media Inconsistencies:\n",
      "- Minimal Twitter engagement (0 followers, 0 tweets)\n",
      "- Limited Instagram following (41 followers)\n",
      "- Inactive Pinterest presence\n",
      "\n",
      "4. Technical Optimization Issues:\n",
      "- Mobile page speed score is relatively low (56)\n",
      "- Missing image size optimization\n",
      "- No text compression\n",
      "- Missing image alt text for SEO\n",
      "- No rich snippets implementation\n",
      "\n",
      "5. Limited Digital Marketing:\n",
      "- Limited advertising presence (only using Google Ads and Instagram Ads)\n",
      "- No display ads or Facebook ads\n",
      "- No e-commerce capabilities or online ordering options\n",
      "- Limited use of promotional tools (no coupons, promotions, or featured products)\n",
      "\n",
      "The company appears to be a small but established advertising agency with strong local presence and customer satisfaction, but has room for improvement in terms of technical optimization, content marketing, and social media engagement. Their main strength lies in their local reputation and basic digital infrastructure, while their primary weaknesses are related to scale limitations and incomplete digital marketing optimization.\n"
     ]
    }
   ],
   "source": [
    "print(response)"
   ]
  },
  {
   "cell_type": "code",
   "execution_count": 24,
   "metadata": {},
   "outputs": [
    {
     "data": {
      "text/plain": [
       "'Strengths of TagLine Media Group:\\n\\n1. Digital Infrastructure\\n- Strong desktop PageSpeed (76)\\n- SSL-secured website\\n- Mobile-responsive design\\n- Well-implemented basic SEO elements\\n\\n2. Customer Satisfaction\\n- Perfect 5-star Google rating (21 reviews)\\n- 100% positive customer feedback\\n\\n3. Social Media Presence\\n- Strong YouTube performance (117 videos, 218.6K views)\\n- Solid Facebook following (2,400 followers)\\n- Multi-platform presence\\n\\n4. Local Business Authority\\n- Established listings on major directories\\n- Strong BuzzScore (74)\\n- Claimed business profiles on Google, Yelp, Yellow Pages\\n\\n5. Technical Foundation\\n- WordPress platform with Analytics integration\\n- Fast server response (0.023 seconds)\\n- Mature domain age (16 years)\\n\\nWeaknesses of TagLine Media Group:\\n\\n1. Operational Scale\\n- Small team size (1-10 employees)\\n- Limited revenue ($1M-$2.5M)\\n- Single location operation\\n\\n2. Website Content Gaps\\n- Missing essential pages (Privacy, About, Services)\\n- No contact information on homepage\\n- Lack of newsletter functionality\\n\\n3. Social Media Performance\\n- Inactive Twitter account\\n- Low Instagram engagement (41 followers)\\n- Dormant Pinterest presence\\n\\n4. Technical Issues\\n- Poor mobile speed score (56)\\n- Unoptimized images\\n- Missing SEO elements (alt text, rich snippets)\\n\\n5. Marketing Limitations\\n- Restricted advertising channels\\n- No e-commerce capabilities\\n- Limited promotional tools\\n- Incomplete digital marketing strategy'"
      ]
     },
     "execution_count": 24,
     "metadata": {},
     "output_type": "execute_result"
    }
   ],
   "source": [
    "reframe_chain=reframe_agent2_response | llm_claud | StrOutputParser()\n",
    "final_response=reframe_chain.invoke({'query':query4,'response':response})\n",
    "final_response"
   ]
  },
  {
   "cell_type": "code",
   "execution_count": 25,
   "metadata": {},
   "outputs": [
    {
     "name": "stdout",
     "output_type": "stream",
     "text": [
      "Strengths of TagLine Media Group:\n",
      "\n",
      "1. Digital Infrastructure\n",
      "- Strong desktop PageSpeed (76)\n",
      "- SSL-secured website\n",
      "- Mobile-responsive design\n",
      "- Well-implemented basic SEO elements\n",
      "\n",
      "2. Customer Satisfaction\n",
      "- Perfect 5-star Google rating (21 reviews)\n",
      "- 100% positive customer feedback\n",
      "\n",
      "3. Social Media Presence\n",
      "- Strong YouTube performance (117 videos, 218.6K views)\n",
      "- Solid Facebook following (2,400 followers)\n",
      "- Multi-platform presence\n",
      "\n",
      "4. Local Business Authority\n",
      "- Established listings on major directories\n",
      "- Strong BuzzScore (74)\n",
      "- Claimed business profiles on Google, Yelp, Yellow Pages\n",
      "\n",
      "5. Technical Foundation\n",
      "- WordPress platform with Analytics integration\n",
      "- Fast server response (0.023 seconds)\n",
      "- Mature domain age (16 years)\n",
      "\n",
      "Weaknesses of TagLine Media Group:\n",
      "\n",
      "1. Operational Scale\n",
      "- Small team size (1-10 employees)\n",
      "- Limited revenue ($1M-$2.5M)\n",
      "- Single location operation\n",
      "\n",
      "2. Website Content Gaps\n",
      "- Missing essential pages (Privacy, About, Services)\n",
      "- No contact information on homepage\n",
      "- Lack of newsletter functionality\n",
      "\n",
      "3. Social Media Performance\n",
      "- Inactive Twitter account\n",
      "- Low Instagram engagement (41 followers)\n",
      "- Dormant Pinterest presence\n",
      "\n",
      "4. Technical Issues\n",
      "- Poor mobile speed score (56)\n",
      "- Unoptimized images\n",
      "- Missing SEO elements (alt text, rich snippets)\n",
      "\n",
      "5. Marketing Limitations\n",
      "- Restricted advertising channels\n",
      "- No e-commerce capabilities\n",
      "- Limited promotional tools\n",
      "- Incomplete digital marketing strategy\n"
     ]
    }
   ],
   "source": [
    "print(final_response)"
   ]
  },
  {
   "cell_type": "code",
   "execution_count": null,
   "metadata": {},
   "outputs": [],
   "source": []
  },
  {
   "cell_type": "markdown",
   "metadata": {},
   "source": [
    "## **If Agent 3 is selected**"
   ]
  },
  {
   "cell_type": "code",
   "execution_count": 26,
   "metadata": {},
   "outputs": [
    {
     "data": {
      "text/plain": [
       "'Draft a personalized email for a TagLine Media Group business and prose my product based on their needs'"
      ]
     },
     "execution_count": 26,
     "metadata": {},
     "output_type": "execute_result"
    }
   ],
   "source": [
    "query5"
   ]
  },
  {
   "cell_type": "code",
   "execution_count": 27,
   "metadata": {},
   "outputs": [],
   "source": [
    "from core.tools.agent_tools import get_specific_company_details\n",
    "from core.prompts.agent3 import agent3_prompt,reframe_agent3_response\n",
    "from langchain_core.output_parsers import StrOutputParser\n",
    "from langchain_core.messages import HumanMessage, SystemMessage,AIMessage"
   ]
  },
  {
   "cell_type": "code",
   "execution_count": 28,
   "metadata": {},
   "outputs": [],
   "source": [
    "tools=[get_specific_company_details]\n",
    "llm_tools_agent_3=llm_claud.bind_tools(tools)\n",
    "agent3_chain=agent3_prompt|llm_tools_agent_3"
   ]
  },
  {
   "cell_type": "code",
   "execution_count": 29,
   "metadata": {},
   "outputs": [],
   "source": [
    "answer=agent3_chain.invoke({'query':query5,'chat_history':[]})"
   ]
  },
  {
   "cell_type": "code",
   "execution_count": 30,
   "metadata": {},
   "outputs": [
    {
     "data": {
      "text/plain": [
       "AIMessage(content=[{'text': \"I'll help craft a personalized email for TagLine Media Group. Let me first retrieve their company details to ensure the email is tailored to their specific needs and context.\", 'type': 'text'}, {'id': 'toolu_01ECKPhEjHpKpDTSUJMXy7zm', 'input': {'company_name': 'TagLine Media Group'}, 'name': 'get_specific_company_details', 'type': 'tool_use'}], additional_kwargs={}, response_metadata={'id': 'msg_01RZ8bQ3Bj89WRSfdkrTQ91A', 'model': 'claude-3-5-sonnet-20241022', 'stop_reason': 'tool_use', 'stop_sequence': None, 'usage': {'cache_creation_input_tokens': 0, 'cache_read_input_tokens': 0, 'input_tokens': 1580, 'output_tokens': 98}}, id='run-db664f75-157c-4620-98b9-f7abc47d1096-0', tool_calls=[{'name': 'get_specific_company_details', 'args': {'company_name': 'TagLine Media Group'}, 'id': 'toolu_01ECKPhEjHpKpDTSUJMXy7zm', 'type': 'tool_call'}], usage_metadata={'input_tokens': 1580, 'output_tokens': 98, 'total_tokens': 1678, 'input_token_details': {'cache_read': 0, 'cache_creation': 0}})"
      ]
     },
     "execution_count": 30,
     "metadata": {},
     "output_type": "execute_result"
    }
   ],
   "source": [
    "answer"
   ]
  },
  {
   "cell_type": "code",
   "execution_count": 31,
   "metadata": {},
   "outputs": [],
   "source": [
    "if answer.tool_calls:\n",
    "    messages=[HumanMessage(query5)]\n",
    "    messages.append(answer)\n",
    "    for tool_call in answer.tool_calls:\n",
    "\n",
    "        selected_tool = {\"get_specific_company_details\":get_specific_company_details}[tool_call[\"name\"].lower()]\n",
    "\n",
    "        tool_msg = selected_tool.invoke(tool_call)\n",
    "\n",
    "        messages.append(tool_msg)"
   ]
  },
  {
   "cell_type": "code",
   "execution_count": 32,
   "metadata": {},
   "outputs": [
    {
     "data": {
      "text/plain": [
       "[HumanMessage(content='Draft a personalized email for a TagLine Media Group business and prose my product based on their needs', additional_kwargs={}, response_metadata={}),\n",
       " AIMessage(content=[{'text': \"I'll help craft a personalized email for TagLine Media Group. Let me first retrieve their company details to ensure the email is tailored to their specific needs and context.\", 'type': 'text'}, {'id': 'toolu_01ECKPhEjHpKpDTSUJMXy7zm', 'input': {'company_name': 'TagLine Media Group'}, 'name': 'get_specific_company_details', 'type': 'tool_use'}], additional_kwargs={}, response_metadata={'id': 'msg_01RZ8bQ3Bj89WRSfdkrTQ91A', 'model': 'claude-3-5-sonnet-20241022', 'stop_reason': 'tool_use', 'stop_sequence': None, 'usage': {'cache_creation_input_tokens': 0, 'cache_read_input_tokens': 0, 'input_tokens': 1580, 'output_tokens': 98}}, id='run-db664f75-157c-4620-98b9-f7abc47d1096-0', tool_calls=[{'name': 'get_specific_company_details', 'args': {'company_name': 'TagLine Media Group'}, 'id': 'toolu_01ECKPhEjHpKpDTSUJMXy7zm', 'type': 'tool_call'}], usage_metadata={'input_tokens': 1580, 'output_tokens': 98, 'total_tokens': 1678, 'input_token_details': {'cache_read': 0, 'cache_creation': 0}}),\n",
       " ToolMessage(content='{\"BUSINESS INFO\": {\"Business Name\": \"TagLine Media Group\", \"Website Formatted\": \"http://taglinegroup.com/\", \"Website\": \"http://taglinegroup.com/\", \"Phone\": \"5202078910\", \"Default Email\": \"mc@taglinegroup.com\", \"Email List\": [\"mc@taglinegroup.com\"], \"street_address\": \"1655 N Swan Rd,\", \"city\": \"Tucson\", \"zip\": \"85712\", \"state\": \"AZ\", \"country\": \"United States\", \"Headquarters\": \"No\", \"BuzzScore\": 74}, \"CATEGORY\": {\"primarry_category_name\": \"Advertising\", \"secondary_category_name\": \"Advertising Agencies\"}, \"FIRMOGRAPHICS\": {\"locations_count\": 1, \"annual_revenue\": \"$1M - $ 2.5M\", \"monthly_technology_spend\": \"700\", \"revenue_seasonality\": \"Fall, Winter\", \"remote_only_business\": \"No\"}, \"E-Commerce\": {\"reviews\": \"Yes\", \"featured_products\": \"No\", \"promotions\": \"No\", \"coupons\": \"No\", \"wish_list\": \"No\", \"order_tracking\": \"No\", \"get_a_quote\": \"No\", \"scheduler\": \"Yes\", \"mortgage_calculator\": \"No\", \"finance\": \"No\", \"inventory_search_form\": \"No\", \"estimates_page\": \"No\", \"menu\": \"Yes\", \"facebook_shop_presence\": \"No\", \"amazon_page_presence\": \"No\", \"monthly_technology_spend_tb\": \"$0K - $1K\", \"reservation_and_booking\": \"No\", \"online_ordering\": \"No\", \"buying_page\": \"No\", \"selling_page\": \"No\", \"rentals_page\": \"No\"}, \"Multi-Screen Compatibility\": {\"Mobile-Friendly\": \"Yes\", \"Responsive Design\": \"Yes\", \"Page Speed Score (Mobile)\": 56}, \"Advertising\": {\"Google Ads\": \"Yes\", \"Display Ads\": \"No\", \"Facebook Ads\": \"No\", \"Yelp Ads\": \"No\", \"Instagram Ads\": \"2\"}, \"Social Media Presence\": {\"facebook_business_page- presence\": \"Yes\", \"facebook_business_page- fb_followers\": \"2,400\", \"facebook_business_page- page_url\": \"https://facebook.com/pg/43972430865\", \"twitter_business_profile- presence\": \"Yes\", \"twitter_business_profile- twitter_followers\": \"0\", \"twitter_business_profile- tweet_count\": \"0\", \"twitter_business_profile- page_url\": \"https://twitter.com/TaglineMediaAZ\", \"youtube_business_channel- presence\": \"Yes\", \"youtube_business_channel- yt_videos_counts\": \"117\", \"youtube_business_channel- yt_subscribers_counts\": \"70\", \"youtube_business_channel- yt_views_counts\": \"218.6K\", \"youtube_business_channel- page_url\": \"https://www.youtube.com/@TaglineMedia\", \"linkedin_company_profile- presence\": \"Yes\", \"linkedin_company_profile- page_url\": \"https://www.linkedin.com/company/tagline-media\", \"pinterest- presence\": \"Yes\", \"pinterest- pinterest_followers\": \"No\", \"pinterest- pinterest_following\": \"No\", \"pinterest- pinterest_pins\": \"No\", \"pinterest- pinterest_boards\": \"No\", \"pinterest- page_url\": \"https://www.pinterest.com/foreignerds\", \"instagram- presence\": \"Yes\", \"instagram- insta_posts\": \"145\", \"instagram- insta_followers\": \"41\", \"instagram- insta_following\": \"29\", \"instagram- page_url\": \"https://www.instagram.com/taglinemediaaz\", \"fb_fans- Facebook Likes\": \"2,379\", \"fbcheckins- Facebook Check ins\": \"64\", \"tweet_friends_count- Twitter Following\": \"9\", \"tweet_likes- Twitter Likes\": \"Yes\", \"tweet_description- Twitter Description\": \"No\", \"pinterest_profile_image_url- Pinterest Profile Image (Link)\": \"No\", \"pinterest_domain_verified- Pinterest Domain Verified\": \"No\", \"pinterest_is_verified_merchant- Pinterest Verified Merchant\": \"No\"}, \"Local Business Presence\": {\"google_places-Listed\": \"Yes\", \"google_places-Claimed\": \"Yes\", \"google_places-NAP\": \"No\", \"google_places-local_directory_googleplaces_reviews\": \"21\", \"google_places-local_directory_googleplaces_ratings\": \"5\", \"yelp-Listed\": \"Yes\", \"yelp-Claimed\": \"Yes\", \"yelp-NAP\": \"Yes\", \"yelp-local_directory_yelp_reviews\": \"No\", \"yelp-local_directory_yelp_ratings\": \"No\", \"yellow_pages-Listed\": \"Yes\", \"yellow_pages-Claimed\": \"Yes\", \"yellow_pages-NAP\": \"Yes\", \"nokia_places-Listed\": \"Yes\", \"nokia_places-Claimed\": \"No\", \"nokia_places-NAP\": \"No\", \"nextdoor-Listed\": \"Yes\", \"nextdoor-Claimed\": \"Yes\", \"nextdoor-NAP\": \"Yes\", \"nextdoor-businesss_name\": \"TagLine Media Group\", \"nextdoor-neighborhood_favorite\": \"No\", \"google_places_claimed-Claimed\": \"Yes\", \"yelp_claimed-Claimed\": \"Yes\", \"yellow_pages_climed-Claimed\": \"Yes\", \"nokia_places_climed-Claimed\": \"No\"}, \"Marketplace\": {\"Thumbtack\": \"No\", \"Uber Eats\": \"No\", \"OpenTable\": \"No\", \"iOS App\": \"No\", \"Android App\": \"No\"}, \"Content Analysis\": {\"Local Phone Number\": \"No\", \"Address on Homepage\": \"No\", \"Map & Directions\": \"No\", \"Contact Us\": \"No\", \"Privacy Policy\": \"No\", \"About Page\": \"No\", \"Services Page\": \"No\", \"Newsletter\": \"No\"}, \"Infrastructure Robustness\": {\"PageSpeed Score (Desktop)\": \"76\", \"Caching Enabled\": 2, \"Image Size Optimization\": \"No\", \"Text Compression\": \"No\", \"Server Response Time\": \"0.023 s\", \"No Page Redirects\": \"Yes\", \"Prioritize Visible Content\": 2, \"Wordpress\": \"Yes\", \"Google Analytics\": \"Yes\", \"SSL\": \"Yes\"}, \"Google Reviews\": {\"Negative\": \"No\", \"Neutral\": \"No\", \"Positive\": \"100%\"}, \"HR & Organization\": {\"Employee Count\": \"1 - 10\", \"Employee Reviews\": \"No\", \"Employee Ratings\": \"No\", \"Open Positions\": \"No\"}, \"SEO Analysis\": {\"Domain Redirection\": \"Yes\", \"Robots.txt\": \"Yes\", \"Sitemap.xml\": \"Yes\", \"Title Tag Compliance\": \"Yes\", \"Location In Title\": \"Yes\", \"Unique Title\": \"No\", \"Meta Description Compliance\": \"Yes\", \"Headings Included\": \"Yes\", \"Image Alt Text\": \"No\", \"Frames Excluded\": \"No\", \"Flash Excluded\": \"Yes\", \"Backlinks\": \"Yes\", \"Domain Authority\": \"No\", \"Domain Age\": \"16 Y\", \"Rich Snippets\": \"No\", \"SEF URL\": \"Yes\", \"Sitemap.html\": \"No\", \"Trust Flow Score\": \"11\"}}', name='get_specific_company_details', tool_call_id='toolu_01ECKPhEjHpKpDTSUJMXy7zm')]"
      ]
     },
     "execution_count": 32,
     "metadata": {},
     "output_type": "execute_result"
    }
   ],
   "source": [
    "messages"
   ]
  },
  {
   "cell_type": "code",
   "execution_count": 33,
   "metadata": {},
   "outputs": [],
   "source": [
    "response=llm_tools_agent_3.invoke(messages).content"
   ]
  },
  {
   "cell_type": "code",
   "execution_count": 34,
   "metadata": {},
   "outputs": [
    {
     "name": "stdout",
     "output_type": "stream",
     "text": [
      "Based on the company details, I'll draft a personalized email that takes into account TagLine Media Group's profile as an advertising agency with strong digital presence and multimedia capabilities:\n",
      "\n",
      "Subject: Enhancing Your Creative Arsenal at TagLine Media Group\n",
      "\n",
      "Dear TagLine Media Team,\n",
      "\n",
      "I noticed your impressive work in the Tucson advertising landscape and your strong commitment to multimedia content creation, particularly evident through your active YouTube channel with over 218K views. As an agency managing $1M-2.5M in annual revenue, I understand you're always looking for tools to enhance your creative capabilities and client deliverables.\n",
      "\n",
      "[Insert Your Product Introduction Here]\n",
      "\n",
      "What makes this particularly relevant for TagLine Media Group is:\n",
      "\n",
      "1. Integration with your existing digital workflow (noting your WordPress infrastructure)\n",
      "2. Support for your multi-channel content strategy (given your active presence across Facebook, Instagram, and YouTube)\n",
      "3. Optimization capabilities that align with your focus on mobile-friendly content (noticed your responsive design implementation)\n",
      "\n",
      "I'd love to schedule a brief call to discuss how we can support your creative team's needs. Given your track record of delivering quality content for your clients, I believe this could be a valuable addition to your toolkit.\n",
      "\n",
      "Would you be open to a 15-minute conversation this week? I'm happy to work around your schedule.\n",
      "\n",
      "Best regards,\n",
      "[Your Name]\n",
      "\n",
      "P.S. I'd be particularly interested in showing you how this could enhance your video content production, given your substantial YouTube presence.\n",
      "\n",
      "---\n",
      "\n",
      "Note: To make this email template fully actionable, you would need to:\n",
      "1. Insert specific details about your product and its benefits\n",
      "2. Add your name and contact information\n",
      "3. Include any specific pricing or promotional offers you'd like to feature\n",
      "\n",
      "Would you like me to modify any part of this draft or would you like to provide specific product details to incorporate into the email?\n"
     ]
    }
   ],
   "source": [
    "print(response)"
   ]
  },
  {
   "cell_type": "code",
   "execution_count": 35,
   "metadata": {},
   "outputs": [
    {
     "data": {
      "text/plain": [
       "\"Subject: Enhancing Your Creative Arsenal at TagLine Media Group\\n\\nDear TagLine Media Team,\\n\\nI noticed your impressive work in the Tucson advertising landscape and your strong commitment to multimedia content creation. As an agency managing $1M-2.5M in annual revenue, I understand you're always looking for tools to enhance your creative capabilities and client deliverables.\\n\\n[Insert Your Product Introduction Here]\\n\\nWhat makes this particularly relevant for TagLine Media Group is:\\n\\n1. Integration with your existing digital workflow\\n2. Support for your multi-channel content strategy\\n3. Optimization capabilities that align with your focus on mobile-friendly content\\n\\nI'd love to schedule a brief call to discuss how we can support your creative team's needs. Given your track record of delivering quality content for your clients, I believe this could be a valuable addition to your toolkit.\\n\\nWould you be open to a 15-minute conversation this week? I'm happy to work around your schedule.\\n\\nBest regards,\\n[Your Name]\\n\\nP.S. I'd be particularly interested in showing you how this could enhance your video content production.\""
      ]
     },
     "execution_count": 35,
     "metadata": {},
     "output_type": "execute_result"
    }
   ],
   "source": [
    "reframe_chain=reframe_agent3_response | llm_claud | StrOutputParser()\n",
    "final_response=reframe_chain.invoke({'query':query5,'response':response})\n",
    "final_response"
   ]
  },
  {
   "cell_type": "code",
   "execution_count": 36,
   "metadata": {},
   "outputs": [
    {
     "name": "stdout",
     "output_type": "stream",
     "text": [
      "Subject: Enhancing Your Creative Arsenal at TagLine Media Group\n",
      "\n",
      "Dear TagLine Media Team,\n",
      "\n",
      "I noticed your impressive work in the Tucson advertising landscape and your strong commitment to multimedia content creation. As an agency managing $1M-2.5M in annual revenue, I understand you're always looking for tools to enhance your creative capabilities and client deliverables.\n",
      "\n",
      "[Insert Your Product Introduction Here]\n",
      "\n",
      "What makes this particularly relevant for TagLine Media Group is:\n",
      "\n",
      "1. Integration with your existing digital workflow\n",
      "2. Support for your multi-channel content strategy\n",
      "3. Optimization capabilities that align with your focus on mobile-friendly content\n",
      "\n",
      "I'd love to schedule a brief call to discuss how we can support your creative team's needs. Given your track record of delivering quality content for your clients, I believe this could be a valuable addition to your toolkit.\n",
      "\n",
      "Would you be open to a 15-minute conversation this week? I'm happy to work around your schedule.\n",
      "\n",
      "Best regards,\n",
      "[Your Name]\n",
      "\n",
      "P.S. I'd be particularly interested in showing you how this could enhance your video content production.\n"
     ]
    }
   ],
   "source": [
    "print(final_response)"
   ]
  },
  {
   "cell_type": "code",
   "execution_count": null,
   "metadata": {},
   "outputs": [],
   "source": []
  }
 ],
 "metadata": {
  "kernelspec": {
   "display_name": ".venv",
   "language": "python",
   "name": "python3"
  },
  "language_info": {
   "codemirror_mode": {
    "name": "ipython",
    "version": 3
   },
   "file_extension": ".py",
   "mimetype": "text/x-python",
   "name": "python",
   "nbconvert_exporter": "python",
   "pygments_lexer": "ipython3",
   "version": "3.11.6"
  }
 },
 "nbformat": 4,
 "nbformat_minor": 2
}
